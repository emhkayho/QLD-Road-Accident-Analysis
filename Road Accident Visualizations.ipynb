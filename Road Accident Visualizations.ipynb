{
 "cells": [
  {
   "cell_type": "code",
   "execution_count": 1,
   "id": "829e2fda",
   "metadata": {},
   "outputs": [],
   "source": [
    "from sqlalchemy import create_engine\n",
    "from sqlalchemy import text"
   ]
  },
  {
   "cell_type": "code",
   "execution_count": 2,
   "id": "439f2a06",
   "metadata": {},
   "outputs": [
    {
     "name": "stdout",
     "output_type": "stream",
     "text": [
      "········\n"
     ]
    }
   ],
   "source": [
    "from getpass import getpass\n",
    "\n",
    "password = getpass()"
   ]
  },
  {
   "cell_type": "code",
   "execution_count": 3,
   "id": "ccd050c3",
   "metadata": {},
   "outputs": [],
   "source": [
    "engine = create_engine('mysql+pymysql://root:{}@localhost:3306/road_accidents'.format(password))"
   ]
  },
  {
   "cell_type": "code",
   "execution_count": 4,
   "id": "1ced3e69",
   "metadata": {},
   "outputs": [],
   "source": [
    "with engine.connect() as conn:\n",
    "    result = conn.execute(text(\"select loc_police_region as 'Crash Locations' , count(*) as Crashes,Concat(round(((COUNT(*) / (SELECT COUNT(*) FROM crash_locations)) * 100),2), '%') as Percentage from crash_locations group by loc_police_region order by count(*) desc limit 5;\"))"
   ]
  },
  {
   "cell_type": "code",
   "execution_count": 5,
   "id": "ef8da977",
   "metadata": {},
   "outputs": [],
   "source": [
    "crash_locations = list(result)"
   ]
  },
  {
   "cell_type": "code",
   "execution_count": 6,
   "id": "5fd498fc",
   "metadata": {},
   "outputs": [
    {
     "data": {
      "text/plain": [
       "[('Brisbane', 109831, '29.92%'),\n",
       " ('North Coast', 69775, '19.00%'),\n",
       " ('South Eastern', 64539, '17.58%'),\n",
       " ('Southern', 46120, '12.56%'),\n",
       " ('Central', 33273, '9.06%')]"
      ]
     },
     "execution_count": 6,
     "metadata": {},
     "output_type": "execute_result"
    }
   ],
   "source": [
    "crash_locations"
   ]
  },
  {
   "cell_type": "code",
   "execution_count": 7,
   "id": "b6eee8a7",
   "metadata": {},
   "outputs": [],
   "source": [
    "import pandas as pd\n",
    "crash_loc = pd.DataFrame(crash_locations, columns =['Crash Location','Number of Crashes','Percentage'])"
   ]
  },
  {
   "cell_type": "code",
   "execution_count": 8,
   "id": "77b2b587",
   "metadata": {},
   "outputs": [
    {
     "data": {
      "text/html": [
       "<div>\n",
       "<style scoped>\n",
       "    .dataframe tbody tr th:only-of-type {\n",
       "        vertical-align: middle;\n",
       "    }\n",
       "\n",
       "    .dataframe tbody tr th {\n",
       "        vertical-align: top;\n",
       "    }\n",
       "\n",
       "    .dataframe thead th {\n",
       "        text-align: right;\n",
       "    }\n",
       "</style>\n",
       "<table border=\"1\" class=\"dataframe\">\n",
       "  <thead>\n",
       "    <tr style=\"text-align: right;\">\n",
       "      <th></th>\n",
       "      <th>Crash Location</th>\n",
       "      <th>Number of Crashes</th>\n",
       "      <th>Percentage</th>\n",
       "    </tr>\n",
       "  </thead>\n",
       "  <tbody>\n",
       "    <tr>\n",
       "      <th>0</th>\n",
       "      <td>Brisbane</td>\n",
       "      <td>109831</td>\n",
       "      <td>29.92%</td>\n",
       "    </tr>\n",
       "    <tr>\n",
       "      <th>1</th>\n",
       "      <td>North Coast</td>\n",
       "      <td>69775</td>\n",
       "      <td>19.00%</td>\n",
       "    </tr>\n",
       "    <tr>\n",
       "      <th>2</th>\n",
       "      <td>South Eastern</td>\n",
       "      <td>64539</td>\n",
       "      <td>17.58%</td>\n",
       "    </tr>\n",
       "    <tr>\n",
       "      <th>3</th>\n",
       "      <td>Southern</td>\n",
       "      <td>46120</td>\n",
       "      <td>12.56%</td>\n",
       "    </tr>\n",
       "    <tr>\n",
       "      <th>4</th>\n",
       "      <td>Central</td>\n",
       "      <td>33273</td>\n",
       "      <td>9.06%</td>\n",
       "    </tr>\n",
       "  </tbody>\n",
       "</table>\n",
       "</div>"
      ],
      "text/plain": [
       "  Crash Location  Number of Crashes Percentage\n",
       "0       Brisbane             109831     29.92%\n",
       "1    North Coast              69775     19.00%\n",
       "2  South Eastern              64539     17.58%\n",
       "3       Southern              46120     12.56%\n",
       "4        Central              33273      9.06%"
      ]
     },
     "execution_count": 8,
     "metadata": {},
     "output_type": "execute_result"
    }
   ],
   "source": [
    "#What are the top 5 crash locations in Queensland with the highest number of crashes?\n",
    "crash_loc"
   ]
  },
  {
   "cell_type": "code",
   "execution_count": 9,
   "id": "3cd93e84",
   "metadata": {},
   "outputs": [],
   "source": [
    "#Visuals libraries\n",
    "import seaborn as sns\n",
    "from matplotlib import pyplot as plt\n",
    "%matplotlib inline\n",
    "plt.style.use('fivethirtyeight')\n",
    "import warnings\n",
    "warnings.filterwarnings('ignore')"
   ]
  },
  {
   "cell_type": "code",
   "execution_count": 10,
   "id": "2debfa91",
   "metadata": {},
   "outputs": [
    {
     "data": {
      "text/plain": [
       "<AxesSubplot:xlabel='Number of Crashes', ylabel='Crash Location'>"
      ]
     },
     "execution_count": 10,
     "metadata": {},
     "output_type": "execute_result"
    },
    {
     "data": {
      "image/png": "[encoded data removed]",
      "text/plain": [
       "<Figure size 432x216 with 1 Axes>"
      ]
     },
     "metadata": {},
     "output_type": "display_data"
    }
   ],
   "source": [
    "#Looking at the Crash_locations to Number of crashes\n",
    "plt.figure(figsize=(6,3))\n",
    "sns.barplot(x = 'Number of Crashes', y = 'Crash Location', data = crash_loc, palette='mako')"
   ]
  },
  {
   "cell_type": "code",
   "execution_count": 11,
   "id": "3a0aab46",
   "metadata": {},
   "outputs": [],
   "source": [
    "#What is the distribution of crash severity among road casualties?\n",
    "with engine.connect() as conn:\n",
    "    result = conn.execute(text(\"select Casualty_Severity as Severity, count(casualty_count) as Casualty,Concat(round(((COUNT(casualty_count) / (SELECT COUNT(casualty_count) FROM road_casualties)) * 100),2), '%') as Percentage from road_casualties group by Severity order by count(casualty_count) desc;\"))"
   ]
  },
  {
   "cell_type": "code",
   "execution_count": 12,
   "id": "a048795e",
   "metadata": {},
   "outputs": [],
   "source": [
    "road_casualties = list(result)"
   ]
  },
  {
   "cell_type": "code",
   "execution_count": 13,
   "id": "c8faccd5",
   "metadata": {},
   "outputs": [
    {
     "data": {
      "text/plain": [
       "[('Hospitalised', 10424, '33.35%'),\n",
       " ('Medically treated', 9687, '31.00%'),\n",
       " ('Minor injury', 7700, '24.64%'),\n",
       " ('Fatality', 3441, '11.01%')]"
      ]
     },
     "execution_count": 13,
     "metadata": {},
     "output_type": "execute_result"
    }
   ],
   "source": [
    "road_casualties"
   ]
  },
  {
   "cell_type": "code",
   "execution_count": 14,
   "id": "e7878e95",
   "metadata": {},
   "outputs": [
    {
     "data": {
      "text/html": [
       "<div>\n",
       "<style scoped>\n",
       "    .dataframe tbody tr th:only-of-type {\n",
       "        vertical-align: middle;\n",
       "    }\n",
       "\n",
       "    .dataframe tbody tr th {\n",
       "        vertical-align: top;\n",
       "    }\n",
       "\n",
       "    .dataframe thead th {\n",
       "        text-align: right;\n",
       "    }\n",
       "</style>\n",
       "<table border=\"1\" class=\"dataframe\">\n",
       "  <thead>\n",
       "    <tr style=\"text-align: right;\">\n",
       "      <th></th>\n",
       "      <th>Severity</th>\n",
       "      <th>Number of casualties</th>\n",
       "      <th>Percentage</th>\n",
       "    </tr>\n",
       "  </thead>\n",
       "  <tbody>\n",
       "    <tr>\n",
       "      <th>0</th>\n",
       "      <td>Hospitalised</td>\n",
       "      <td>10424</td>\n",
       "      <td>33.35%</td>\n",
       "    </tr>\n",
       "    <tr>\n",
       "      <th>1</th>\n",
       "      <td>Medically treated</td>\n",
       "      <td>9687</td>\n",
       "      <td>31.00%</td>\n",
       "    </tr>\n",
       "    <tr>\n",
       "      <th>2</th>\n",
       "      <td>Minor injury</td>\n",
       "      <td>7700</td>\n",
       "      <td>24.64%</td>\n",
       "    </tr>\n",
       "    <tr>\n",
       "      <th>3</th>\n",
       "      <td>Fatality</td>\n",
       "      <td>3441</td>\n",
       "      <td>11.01%</td>\n",
       "    </tr>\n",
       "  </tbody>\n",
       "</table>\n",
       "</div>"
      ],
      "text/plain": [
       "            Severity  Number of casualties Percentage\n",
       "0       Hospitalised                 10424     33.35%\n",
       "1  Medically treated                  9687     31.00%\n",
       "2       Minor injury                  7700     24.64%\n",
       "3           Fatality                  3441     11.01%"
      ]
     },
     "execution_count": 14,
     "metadata": {},
     "output_type": "execute_result"
    }
   ],
   "source": [
    "import pandas as pd\n",
    "road_cas = pd.DataFrame(road_casualties, columns =['Severity','Number of casualties','Percentage'])\n",
    "road_cas"
   ]
  },
  {
   "cell_type": "code",
   "execution_count": 15,
   "id": "3d5df1c4",
   "metadata": {},
   "outputs": [
    {
     "data": {
      "text/plain": [
       "<AxesSubplot:xlabel='Number of casualties', ylabel='Severity'>"
      ]
     },
     "execution_count": 15,
     "metadata": {},
     "output_type": "execute_result"
    },
    {
     "data": {
      "image/png": "[encoded data removed]",
      "text/plain": [
       "<Figure size 432x216 with 1 Axes>"
      ]
     },
     "metadata": {},
     "output_type": "display_data"
    }
   ],
   "source": [
    "#Looking at the Severity to Number of casualties\n",
    "plt.figure(figsize=(6,3))\n",
    "sns.barplot(x = 'Number of casualties', y = 'Severity', data = road_cas, palette='mako')"
   ]
  },
  {
   "cell_type": "code",
   "execution_count": 16,
   "id": "325f41f8",
   "metadata": {},
   "outputs": [],
   "source": [
    "#What is the number of drivers wearing restraints or helmets during crashes,sort by severity?\n",
    "with engine.connect() as conn:\n",
    "    result = conn.execute(text(\"select casualty_severity as Severity, count(*) as 'Drivers on Restrained', Concat(round(((COUNT(*) / (SELECT count(*) FROM crash_locations)) * 100),2), '%') as Percentage from restraint where Casualty_Restraint_Helmet_Use = 'Restrained' group by severity order by Percentage desc;\"))"
   ]
  },
  {
   "cell_type": "code",
   "execution_count": 17,
   "id": "6d525793",
   "metadata": {},
   "outputs": [],
   "source": [
    "use_restraint = list(result)"
   ]
  },
  {
   "cell_type": "code",
   "execution_count": 18,
   "id": "2c243c79",
   "metadata": {},
   "outputs": [
    {
     "data": {
      "text/plain": [
       "[('Medically treated', 2471, '0.67%'),\n",
       " ('Hospitalised', 2426, '0.66%'),\n",
       " ('Minor injury', 2385, '0.65%'),\n",
       " ('Fatality', 1161, '0.32%')]"
      ]
     },
     "execution_count": 18,
     "metadata": {},
     "output_type": "execute_result"
    }
   ],
   "source": [
    "use_restraint"
   ]
  },
  {
   "cell_type": "code",
   "execution_count": 19,
   "id": "a7daf796",
   "metadata": {},
   "outputs": [
    {
     "data": {
      "text/html": [
       "<div>\n",
       "<style scoped>\n",
       "    .dataframe tbody tr th:only-of-type {\n",
       "        vertical-align: middle;\n",
       "    }\n",
       "\n",
       "    .dataframe tbody tr th {\n",
       "        vertical-align: top;\n",
       "    }\n",
       "\n",
       "    .dataframe thead th {\n",
       "        text-align: right;\n",
       "    }\n",
       "</style>\n",
       "<table border=\"1\" class=\"dataframe\">\n",
       "  <thead>\n",
       "    <tr style=\"text-align: right;\">\n",
       "      <th></th>\n",
       "      <th>Severity</th>\n",
       "      <th>Drivers on Restrained</th>\n",
       "      <th>Percentage</th>\n",
       "    </tr>\n",
       "  </thead>\n",
       "  <tbody>\n",
       "    <tr>\n",
       "      <th>0</th>\n",
       "      <td>Medically treated</td>\n",
       "      <td>2471</td>\n",
       "      <td>0.67%</td>\n",
       "    </tr>\n",
       "    <tr>\n",
       "      <th>1</th>\n",
       "      <td>Hospitalised</td>\n",
       "      <td>2426</td>\n",
       "      <td>0.66%</td>\n",
       "    </tr>\n",
       "    <tr>\n",
       "      <th>2</th>\n",
       "      <td>Minor injury</td>\n",
       "      <td>2385</td>\n",
       "      <td>0.65%</td>\n",
       "    </tr>\n",
       "    <tr>\n",
       "      <th>3</th>\n",
       "      <td>Fatality</td>\n",
       "      <td>1161</td>\n",
       "      <td>0.32%</td>\n",
       "    </tr>\n",
       "  </tbody>\n",
       "</table>\n",
       "</div>"
      ],
      "text/plain": [
       "            Severity  Drivers on Restrained Percentage\n",
       "0  Medically treated                   2471      0.67%\n",
       "1       Hospitalised                   2426      0.66%\n",
       "2       Minor injury                   2385      0.65%\n",
       "3           Fatality                   1161      0.32%"
      ]
     },
     "execution_count": 19,
     "metadata": {},
     "output_type": "execute_result"
    }
   ],
   "source": [
    "import pandas as pd\n",
    "restraint = pd.DataFrame(use_restraint, columns =['Severity','Drivers on Restrained','Percentage'])\n",
    "restraint"
   ]
  },
  {
   "cell_type": "code",
   "execution_count": 20,
   "id": "a090697d",
   "metadata": {},
   "outputs": [
    {
     "data": {
      "text/plain": [
       "<AxesSubplot:xlabel='Drivers on Restrained', ylabel='Severity'>"
      ]
     },
     "execution_count": 20,
     "metadata": {},
     "output_type": "execute_result"
    },
    {
     "data": {
      "image/png": "[encoded data removed]",
      "text/plain": [
       "<Figure size 432x216 with 1 Axes>"
      ]
     },
     "metadata": {},
     "output_type": "display_data"
    }
   ],
   "source": [
    "#Looking at the Severity to Number of casualties\n",
    "plt.figure(figsize=(6,3))\n",
    "sns.barplot(x = 'Drivers on Restrained', y = 'Severity', data = restraint, palette='mako')"
   ]
  },
  {
   "cell_type": "code",
   "execution_count": 21,
   "id": "f894adc2",
   "metadata": {},
   "outputs": [],
   "source": [
    "#How does the severity of crashes differ based on the driver's age and gender?\n",
    "with engine.connect() as conn:\n",
    "    result = conn.execute(text(\"select Casualty_Severity, Casualty_agegroup, casualty_Gender,count(casualty_count) as Total,concat(round(((count(*) / (select count(*) from road_casualties)) *100),0),'%') as Percentage from road_casualties group by Casualty_Severity,Casualty_agegroup,Casualty_Gender order by count(casualty_count) desc;\"))"
   ]
  },
  {
   "cell_type": "code",
   "execution_count": 22,
   "id": "ad939cc6",
   "metadata": {},
   "outputs": [],
   "source": [
    "Age_casualties = list(result)"
   ]
  },
  {
   "cell_type": "code",
   "execution_count": 23,
   "id": "26f54d57",
   "metadata": {},
   "outputs": [
    {
     "data": {
      "text/plain": [
       "[('Hospitalised', '17 to 24', 'Male', 769, '2%'),\n",
       " ('Hospitalised', '30 to 39', 'Male', 763, '2%'),\n",
       " ('Medically treated', '17 to 24', 'Male', 754, '2%'),\n",
       " ('Hospitalised', '40 to 49', 'Male', 747, '2%'),\n",
       " ('Medically treated', '30 to 39', 'Male', 737, '2%'),\n",
       " ('Medically treated', '40 to 49', 'Male', 733, '2%'),\n",
       " ('Hospitalised', '50 to 59', 'Male', 723, '2%'),\n",
       " ('Hospitalised', '0 to 16', 'Male', 719, '2%'),\n",
       " ('Hospitalised', '25 to 29', 'Male', 708, '2%'),\n",
       " ('Medically treated', '25 to 29', 'Male', 707, '2%'),\n",
       " ('Hospitalised', '60 to 74', 'Male', 694, '2%'),\n",
       " ('Medically treated', '50 to 59', 'Male', 692, '2%'),\n",
       " ('Hospitalised', '17 to 24', 'Female', 668, '2%'),\n",
       " ('Hospitalised', '40 to 49', 'Female', 662, '2%'),\n",
       " ('Minor injury', '30 to 39', 'Male', 652, '2%'),\n",
       " ('Hospitalised', '30 to 39', 'Female', 650, '2%'),\n",
       " ('Minor injury', '17 to 24', 'Male', 649, '2%'),\n",
       " ('Medically treated', '0 to 16', 'Male', 640, '2%'),\n",
       " ('Medically treated', '60 to 74', 'Male', 637, '2%'),\n",
       " ('Hospitalised', '50 to 59', 'Female', 634, '2%'),\n",
       " ('Medically treated', '17 to 24', 'Female', 633, '2%'),\n",
       " ('Medically treated', '30 to 39', 'Female', 621, '2%'),\n",
       " ('Minor injury', '40 to 49', 'Male', 617, '2%'),\n",
       " ('Hospitalised', '25 to 29', 'Female', 594, '2%'),\n",
       " ('Medically treated', '40 to 49', 'Female', 589, '2%'),\n",
       " ('Medically treated', '50 to 59', 'Female', 582, '2%'),\n",
       " ('Minor injury', '50 to 59', 'Male', 582, '2%'),\n",
       " ('Hospitalised', '0 to 16', 'Female', 578, '2%'),\n",
       " ('Hospitalised', '60 to 74', 'Female', 571, '2%'),\n",
       " ('Medically treated', '25 to 29', 'Female', 564, '2%'),\n",
       " ('Minor injury', '25 to 29', 'Male', 563, '2%'),\n",
       " ('Minor injury', '0 to 16', 'Male', 534, '2%'),\n",
       " ('Minor injury', '60 to 74', 'Male', 526, '2%'),\n",
       " ('Hospitalised', '75 and over', 'Male', 526, '2%'),\n",
       " ('Medically treated', '0 to 16', 'Female', 521, '2%'),\n",
       " ('Minor injury', '17 to 24', 'Female', 500, '2%'),\n",
       " ('Minor injury', '30 to 39', 'Female', 494, '2%'),\n",
       " ('Medically treated', '60 to 74', 'Female', 487, '2%'),\n",
       " ('Minor injury', '40 to 49', 'Female', 459, '1%'),\n",
       " ('Minor injury', '25 to 29', 'Female', 441, '1%'),\n",
       " ('Medically treated', '75 and over', 'Male', 427, '1%'),\n",
       " ('Hospitalised', '75 and over', 'Female', 418, '1%'),\n",
       " ('Fatality', '17 to 24', 'Male', 415, '1%'),\n",
       " ('Minor injury', '50 to 59', 'Female', 411, '1%'),\n",
       " ('Minor injury', '60 to 74', 'Female', 373, '1%'),\n",
       " ('Minor injury', '0 to 16', 'Female', 366, '1%'),\n",
       " ('Medically treated', '75 and over', 'Female', 363, '1%'),\n",
       " ('Fatality', '30 to 39', 'Male', 358, '1%'),\n",
       " ('Fatality', '40 to 49', 'Male', 337, '1%'),\n",
       " ('Fatality', '25 to 29', 'Male', 288, '1%'),\n",
       " ('Fatality', '50 to 59', 'Male', 272, '1%'),\n",
       " ('Minor injury', '75 and over', 'Male', 270, '1%'),\n",
       " ('Fatality', '60 to 74', 'Male', 265, '1%'),\n",
       " ('Minor injury', '75 and over', 'Female', 263, '1%'),\n",
       " ('Fatality', '75 and over', 'Male', 211, '1%'),\n",
       " ('Fatality', '17 to 24', 'Female', 184, '1%'),\n",
       " ('Fatality', '0 to 16', 'Male', 172, '1%'),\n",
       " ('Fatality', '75 and over', 'Female', 153, '0%'),\n",
       " ('Fatality', '40 to 49', 'Female', 151, '0%'),\n",
       " ('Fatality', '50 to 59', 'Female', 144, '0%'),\n",
       " ('Fatality', '30 to 39', 'Female', 144, '0%'),\n",
       " ('Fatality', '60 to 74', 'Female', 138, '0%'),\n",
       " ('Fatality', '0 to 16', 'Female', 108, '0%'),\n",
       " ('Fatality', '25 to 29', 'Female', 101, '0%')]"
      ]
     },
     "execution_count": 23,
     "metadata": {},
     "output_type": "execute_result"
    }
   ],
   "source": [
    "Age_casualties"
   ]
  },
  {
   "cell_type": "code",
   "execution_count": 24,
   "id": "e4f85ef2",
   "metadata": {},
   "outputs": [
    {
     "data": {
      "text/html": [
       "<div>\n",
       "<style scoped>\n",
       "    .dataframe tbody tr th:only-of-type {\n",
       "        vertical-align: middle;\n",
       "    }\n",
       "\n",
       "    .dataframe tbody tr th {\n",
       "        vertical-align: top;\n",
       "    }\n",
       "\n",
       "    .dataframe thead th {\n",
       "        text-align: right;\n",
       "    }\n",
       "</style>\n",
       "<table border=\"1\" class=\"dataframe\">\n",
       "  <thead>\n",
       "    <tr style=\"text-align: right;\">\n",
       "      <th></th>\n",
       "      <th>Casualty_Severity</th>\n",
       "      <th>Casualty_agegroup</th>\n",
       "      <th>casualty_Gender</th>\n",
       "      <th>Total</th>\n",
       "      <th>Percentage</th>\n",
       "    </tr>\n",
       "  </thead>\n",
       "  <tbody>\n",
       "    <tr>\n",
       "      <th>0</th>\n",
       "      <td>Hospitalised</td>\n",
       "      <td>17 to 24</td>\n",
       "      <td>Male</td>\n",
       "      <td>769</td>\n",
       "      <td>2%</td>\n",
       "    </tr>\n",
       "    <tr>\n",
       "      <th>1</th>\n",
       "      <td>Hospitalised</td>\n",
       "      <td>30 to 39</td>\n",
       "      <td>Male</td>\n",
       "      <td>763</td>\n",
       "      <td>2%</td>\n",
       "    </tr>\n",
       "    <tr>\n",
       "      <th>2</th>\n",
       "      <td>Medically treated</td>\n",
       "      <td>17 to 24</td>\n",
       "      <td>Male</td>\n",
       "      <td>754</td>\n",
       "      <td>2%</td>\n",
       "    </tr>\n",
       "    <tr>\n",
       "      <th>3</th>\n",
       "      <td>Hospitalised</td>\n",
       "      <td>40 to 49</td>\n",
       "      <td>Male</td>\n",
       "      <td>747</td>\n",
       "      <td>2%</td>\n",
       "    </tr>\n",
       "    <tr>\n",
       "      <th>4</th>\n",
       "      <td>Medically treated</td>\n",
       "      <td>30 to 39</td>\n",
       "      <td>Male</td>\n",
       "      <td>737</td>\n",
       "      <td>2%</td>\n",
       "    </tr>\n",
       "    <tr>\n",
       "      <th>...</th>\n",
       "      <td>...</td>\n",
       "      <td>...</td>\n",
       "      <td>...</td>\n",
       "      <td>...</td>\n",
       "      <td>...</td>\n",
       "    </tr>\n",
       "    <tr>\n",
       "      <th>59</th>\n",
       "      <td>Fatality</td>\n",
       "      <td>50 to 59</td>\n",
       "      <td>Female</td>\n",
       "      <td>144</td>\n",
       "      <td>0%</td>\n",
       "    </tr>\n",
       "    <tr>\n",
       "      <th>60</th>\n",
       "      <td>Fatality</td>\n",
       "      <td>30 to 39</td>\n",
       "      <td>Female</td>\n",
       "      <td>144</td>\n",
       "      <td>0%</td>\n",
       "    </tr>\n",
       "    <tr>\n",
       "      <th>61</th>\n",
       "      <td>Fatality</td>\n",
       "      <td>60 to 74</td>\n",
       "      <td>Female</td>\n",
       "      <td>138</td>\n",
       "      <td>0%</td>\n",
       "    </tr>\n",
       "    <tr>\n",
       "      <th>62</th>\n",
       "      <td>Fatality</td>\n",
       "      <td>0 to 16</td>\n",
       "      <td>Female</td>\n",
       "      <td>108</td>\n",
       "      <td>0%</td>\n",
       "    </tr>\n",
       "    <tr>\n",
       "      <th>63</th>\n",
       "      <td>Fatality</td>\n",
       "      <td>25 to 29</td>\n",
       "      <td>Female</td>\n",
       "      <td>101</td>\n",
       "      <td>0%</td>\n",
       "    </tr>\n",
       "  </tbody>\n",
       "</table>\n",
       "<p>64 rows × 5 columns</p>\n",
       "</div>"
      ],
      "text/plain": [
       "    Casualty_Severity Casualty_agegroup casualty_Gender  Total Percentage\n",
       "0        Hospitalised          17 to 24            Male    769         2%\n",
       "1        Hospitalised          30 to 39            Male    763         2%\n",
       "2   Medically treated          17 to 24            Male    754         2%\n",
       "3        Hospitalised          40 to 49            Male    747         2%\n",
       "4   Medically treated          30 to 39            Male    737         2%\n",
       "..                ...               ...             ...    ...        ...\n",
       "59           Fatality          50 to 59          Female    144         0%\n",
       "60           Fatality          30 to 39          Female    144         0%\n",
       "61           Fatality          60 to 74          Female    138         0%\n",
       "62           Fatality           0 to 16          Female    108         0%\n",
       "63           Fatality          25 to 29          Female    101         0%\n",
       "\n",
       "[64 rows x 5 columns]"
      ]
     },
     "execution_count": 24,
     "metadata": {},
     "output_type": "execute_result"
    }
   ],
   "source": [
    "import pandas as pd\n",
    "age_cas = pd.DataFrame(Age_casualties, columns =['Casualty_Severity','Casualty_agegroup','casualty_Gender','Total','Percentage'])\n",
    "age_cas"
   ]
  },
  {
   "cell_type": "code",
   "execution_count": 25,
   "id": "9a4a94e7",
   "metadata": {},
   "outputs": [
    {
     "data": {
      "text/plain": [
       "array(['17 to 24', '30 to 39', '40 to 49', '50 to 59', '0 to 16',\n",
       "       '25 to 29', '60 to 74', '75 and over'], dtype=object)"
      ]
     },
     "execution_count": 25,
     "metadata": {},
     "output_type": "execute_result"
    }
   ],
   "source": [
    "age_cas['Casualty_agegroup'].unique()"
   ]
  },
  {
   "cell_type": "code",
   "execution_count": 26,
   "id": "02816e2a",
   "metadata": {},
   "outputs": [
    {
     "data": {
      "text/plain": [
       "<AxesSubplot:xlabel='Total', ylabel='Casualty_agegroup'>"
      ]
     },
     "execution_count": 26,
     "metadata": {},
     "output_type": "execute_result"
    },
    {
     "data": {
      "image/png": "[encoded data removed]",
      "text/plain": [
       "<Figure size 648x504 with 1 Axes>"
      ]
     },
     "metadata": {},
     "output_type": "display_data"
    }
   ],
   "source": [
    "#looking at Promo to store type\n",
    "plt.figure(figsize=(9,7))\n",
    "sns.barplot(hue = 'casualty_Gender', y = 'Casualty_agegroup', x ='Total',\n",
    "              data = age_cas, order = ['0 to 16','17 to 24', '25 to 29','30 to 39', \n",
    "                                       '40 to 49', '50 to 59', '60 to 74', '75 and over'], palette = 'mako')"
   ]
  },
  {
   "cell_type": "code",
   "execution_count": 27,
   "id": "d73d0595",
   "metadata": {},
   "outputs": [],
   "source": [
    "#How does the number of road casualties vary by day of the week?\n",
    "with engine.connect() as conn:\n",
    "    result = conn.execute(text(\"select crash_Day_of_week as 'Day of Week',count(*) as 'Days of Casualties',Concat(round(((COUNT(*) / (SELECT count(*) FROM crash_locations)) * 100),2), '%') as Percentage from crash_locations group by crash_day_of_week order by count(*) desc;\"))"
   ]
  },
  {
   "cell_type": "code",
   "execution_count": 28,
   "id": "b8dcf080",
   "metadata": {},
   "outputs": [],
   "source": [
    "crash_locations = list(result)"
   ]
  },
  {
   "cell_type": "code",
   "execution_count": 29,
   "id": "41b1ecd6",
   "metadata": {},
   "outputs": [
    {
     "data": {
      "text/plain": [
       "[('Friday', 61893, '16.86%'),\n",
       " ('Thursday', 56164, '15.30%'),\n",
       " ('Wednesday', 53838, '14.66%'),\n",
       " ('Tuesday', 52107, '14.19%'),\n",
       " ('Saturday', 51673, '14.07%'),\n",
       " ('Monday', 49553, '13.50%'),\n",
       " ('Sunday', 41915, '11.42%')]"
      ]
     },
     "execution_count": 29,
     "metadata": {},
     "output_type": "execute_result"
    }
   ],
   "source": [
    "crash_locations"
   ]
  },
  {
   "cell_type": "code",
   "execution_count": 30,
   "id": "b50827f7",
   "metadata": {},
   "outputs": [
    {
     "data": {
      "text/html": [
       "<div>\n",
       "<style scoped>\n",
       "    .dataframe tbody tr th:only-of-type {\n",
       "        vertical-align: middle;\n",
       "    }\n",
       "\n",
       "    .dataframe tbody tr th {\n",
       "        vertical-align: top;\n",
       "    }\n",
       "\n",
       "    .dataframe thead th {\n",
       "        text-align: right;\n",
       "    }\n",
       "</style>\n",
       "<table border=\"1\" class=\"dataframe\">\n",
       "  <thead>\n",
       "    <tr style=\"text-align: right;\">\n",
       "      <th></th>\n",
       "      <th>Days of Week</th>\n",
       "      <th>Casualties</th>\n",
       "      <th>Percentage</th>\n",
       "    </tr>\n",
       "  </thead>\n",
       "  <tbody>\n",
       "    <tr>\n",
       "      <th>0</th>\n",
       "      <td>Friday</td>\n",
       "      <td>61893</td>\n",
       "      <td>16.86%</td>\n",
       "    </tr>\n",
       "    <tr>\n",
       "      <th>1</th>\n",
       "      <td>Thursday</td>\n",
       "      <td>56164</td>\n",
       "      <td>15.30%</td>\n",
       "    </tr>\n",
       "    <tr>\n",
       "      <th>2</th>\n",
       "      <td>Wednesday</td>\n",
       "      <td>53838</td>\n",
       "      <td>14.66%</td>\n",
       "    </tr>\n",
       "    <tr>\n",
       "      <th>3</th>\n",
       "      <td>Tuesday</td>\n",
       "      <td>52107</td>\n",
       "      <td>14.19%</td>\n",
       "    </tr>\n",
       "    <tr>\n",
       "      <th>4</th>\n",
       "      <td>Saturday</td>\n",
       "      <td>51673</td>\n",
       "      <td>14.07%</td>\n",
       "    </tr>\n",
       "    <tr>\n",
       "      <th>5</th>\n",
       "      <td>Monday</td>\n",
       "      <td>49553</td>\n",
       "      <td>13.50%</td>\n",
       "    </tr>\n",
       "    <tr>\n",
       "      <th>6</th>\n",
       "      <td>Sunday</td>\n",
       "      <td>41915</td>\n",
       "      <td>11.42%</td>\n",
       "    </tr>\n",
       "  </tbody>\n",
       "</table>\n",
       "</div>"
      ],
      "text/plain": [
       "  Days of Week  Casualties Percentage\n",
       "0       Friday       61893     16.86%\n",
       "1     Thursday       56164     15.30%\n",
       "2    Wednesday       53838     14.66%\n",
       "3      Tuesday       52107     14.19%\n",
       "4     Saturday       51673     14.07%\n",
       "5       Monday       49553     13.50%\n",
       "6       Sunday       41915     11.42%"
      ]
     },
     "execution_count": 30,
     "metadata": {},
     "output_type": "execute_result"
    }
   ],
   "source": [
    "import pandas as pd\n",
    "crash_loc = pd.DataFrame(crash_locations, columns =['Days of Week','Casualties','Percentage'])\n",
    "crash_loc"
   ]
  },
  {
   "cell_type": "code",
   "execution_count": 31,
   "id": "ab37140b",
   "metadata": {},
   "outputs": [
    {
     "data": {
      "text/html": [
       "<div>\n",
       "<style scoped>\n",
       "    .dataframe tbody tr th:only-of-type {\n",
       "        vertical-align: middle;\n",
       "    }\n",
       "\n",
       "    .dataframe tbody tr th {\n",
       "        vertical-align: top;\n",
       "    }\n",
       "\n",
       "    .dataframe thead th {\n",
       "        text-align: right;\n",
       "    }\n",
       "</style>\n",
       "<table border=\"1\" class=\"dataframe\">\n",
       "  <thead>\n",
       "    <tr style=\"text-align: right;\">\n",
       "      <th></th>\n",
       "      <th>Days of Week</th>\n",
       "      <th>Casualties</th>\n",
       "      <th>Percentage</th>\n",
       "    </tr>\n",
       "  </thead>\n",
       "  <tbody>\n",
       "    <tr>\n",
       "      <th>5</th>\n",
       "      <td>Monday</td>\n",
       "      <td>49553</td>\n",
       "      <td>13.50%</td>\n",
       "    </tr>\n",
       "    <tr>\n",
       "      <th>3</th>\n",
       "      <td>Tuesday</td>\n",
       "      <td>52107</td>\n",
       "      <td>14.19%</td>\n",
       "    </tr>\n",
       "    <tr>\n",
       "      <th>2</th>\n",
       "      <td>Wednesday</td>\n",
       "      <td>53838</td>\n",
       "      <td>14.66%</td>\n",
       "    </tr>\n",
       "    <tr>\n",
       "      <th>1</th>\n",
       "      <td>Thursday</td>\n",
       "      <td>56164</td>\n",
       "      <td>15.30%</td>\n",
       "    </tr>\n",
       "    <tr>\n",
       "      <th>0</th>\n",
       "      <td>Friday</td>\n",
       "      <td>61893</td>\n",
       "      <td>16.86%</td>\n",
       "    </tr>\n",
       "    <tr>\n",
       "      <th>4</th>\n",
       "      <td>Saturday</td>\n",
       "      <td>51673</td>\n",
       "      <td>14.07%</td>\n",
       "    </tr>\n",
       "    <tr>\n",
       "      <th>6</th>\n",
       "      <td>Sunday</td>\n",
       "      <td>41915</td>\n",
       "      <td>11.42%</td>\n",
       "    </tr>\n",
       "  </tbody>\n",
       "</table>\n",
       "</div>"
      ],
      "text/plain": [
       "  Days of Week  Casualties Percentage\n",
       "5       Monday       49553     13.50%\n",
       "3      Tuesday       52107     14.19%\n",
       "2    Wednesday       53838     14.66%\n",
       "1     Thursday       56164     15.30%\n",
       "0       Friday       61893     16.86%\n",
       "4     Saturday       51673     14.07%\n",
       "6       Sunday       41915     11.42%"
      ]
     },
     "execution_count": 31,
     "metadata": {},
     "output_type": "execute_result"
    }
   ],
   "source": [
    "#Defining the custom order of days\n",
    "day_order = ['Monday','Tuesday','Wednesday','Thursday','Friday','Saturday','Sunday']\n",
    "#Modifying our order to day of week in our dataframe\n",
    "crash_loc['Days of Week'] = pd.Categorical(crash_loc['Days of Week'], categories = day_order, ordered = True)\n",
    "#sorting the dataframe by the custom order\n",
    "crash_loc.sort_values(by = 'Days of Week', inplace = True)\n",
    "crash_loc"
   ]
  },
  {
   "cell_type": "code",
   "execution_count": 32,
   "id": "69fb230e",
   "metadata": {},
   "outputs": [
    {
     "data": {
      "image/png": "[encoded data removed]",
      "text/plain": [
       "<Figure size 576x288 with 1 Axes>"
      ]
     },
     "metadata": {},
     "output_type": "display_data"
    }
   ],
   "source": [
    "plt.figure(figsize= (8,4))\n",
    "plt.plot(crash_loc['Days of Week'],crash_loc['Casualties'] )\n",
    "plt.title('Trend Of Casualties By Day')\n",
    "plt.xlabel('Day', fontsize = 13)\n",
    "plt.ylabel('Casualties', fontsize = 13)\n",
    "plt.show()"
   ]
  },
  {
   "cell_type": "code",
   "execution_count": null,
   "id": "2d5dcb4a",
   "metadata": {},
   "outputs": [],
   "source": []
  }
 ],
 "metadata": {
  "kernelspec": {
   "display_name": "Python 3 (ipykernel)",
   "language": "python",
   "name": "python3"
  },
  "language_info": {
   "codemirror_mode": {
    "name": "ipython",
    "version": 3
   },
   "file_extension": ".py",
   "mimetype": "text/x-python",
   "name": "python",
   "nbconvert_exporter": "python",
   "pygments_lexer": "ipython3",
   "version": "3.10.4"
  }
 },
 "nbformat": 4,
 "nbformat_minor": 5
}
